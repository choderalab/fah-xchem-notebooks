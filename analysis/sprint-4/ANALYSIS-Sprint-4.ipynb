{
 "metadata": {
  "language_info": {
   "codemirror_mode": {
    "name": "ipython",
    "version": 3
   },
   "file_extension": ".py",
   "mimetype": "text/x-python",
   "name": "python",
   "nbconvert_exporter": "python",
   "pygments_lexer": "ipython3",
   "version": "3.7.8-final"
  },
  "orig_nbformat": 2,
  "kernelspec": {
   "name": "Python 3.7.8 64-bit ('perses_dev_FAH': conda)",
   "display_name": "Python 3.7.8 64-bit ('perses_dev_FAH': conda)",
   "metadata": {
    "interpreter": {
     "hash": "2104369120766a42b30a1ba599fbef465e42f25a5a04e0970cccbc8d65f818eb"
    }
   }
  }
 },
 "nbformat": 4,
 "nbformat_minor": 2,
 "cells": [
  {
   "source": [
    "# Sprint 4 Analysis"
   ],
   "cell_type": "markdown",
   "metadata": {}
  },
  {
   "cell_type": "code",
   "execution_count": 1,
   "metadata": {},
   "outputs": [],
   "source": [
    "from arsenic import plotting, stats # useful FE analysis functions\n",
    "import json\n",
    "import matplotlib.pyplot as plt\n",
    "from matplotlib.ticker import MaxNLocator\n",
    "import numpy as np\n",
    "import seaborn as sns\n",
    "from openeye import oechem\n",
    "import numpy as np\n",
    "from fah_xchem.analysis.constants import KT_KCALMOL # to convert from kT to kcal per mol"
   ]
  },
  {
   "cell_type": "code",
   "execution_count": 2,
   "metadata": {},
   "outputs": [],
   "source": [
    "# Read in the analysis.json for Sprint 4\n",
    "# Each transform is the backwards transform (?)\n",
    "with open('../../data/sprint-4/analysis.json', 'r') as file:\n",
    "    data = json.load(file)"
   ]
  },
  {
   "cell_type": "code",
   "execution_count": 4,
   "metadata": {},
   "outputs": [
    {
     "output_type": "execute_result",
     "data": {
      "text/plain": "dict_keys(['metadata', 'compounds', 'transformations'])"
     },
     "metadata": {},
     "execution_count": 4
    }
   ],
   "source": [
    "data['series'].keys()"
   ]
  },
  {
   "cell_type": "code",
   "execution_count": 9,
   "metadata": {},
   "outputs": [
    {
     "output_type": "execute_result",
     "data": {
      "text/plain": "{'run_id': 4,\n 'xchem_fragment_id': 'x3110',\n 'initial_microstate': {'compound_id': 'EN300-26619500',\n  'microstate_id': 'EN300-26619500_2'},\n 'final_microstate': {'compound_id': '3v3m-2020-04-Jacobs',\n  'microstate_id': '3v3m-2020-04-Jacobs'}}"
     },
     "metadata": {},
     "execution_count": 9
    }
   ],
   "source": [
    "data['series']['transformations'][0]['transformation']"
   ]
  },
  {
   "cell_type": "code",
   "execution_count": 176,
   "metadata": {},
   "outputs": [
    {
     "output_type": "execute_result",
     "data": {
      "text/plain": "{'metadata': {'compound_id': '3v3m-2020-04-Jacobs',\n  'smiles': 'CC(C)(C)c1ccc(cc1)N([C@H](c2cccnc2)C(=O)NC(C)(C)C)C(=O)c3ccco3',\n  'experimental_data': {'pIC50': 5.50248779245608}},\n 'microstates': [{'microstate': {'microstate_id': '3v3m-2020-04-Jacobs',\n    'free_energy_penalty': {'point': 0.0, 'stderr': 0.0},\n    'smiles': 'CC(C)(C)c1ccc(cc1)N([C@H](c2cccnc2)C(=O)NC(C)(C)C)C(=O)c3ccco3'},\n   'free_energy': {'point': -11.86540296121326, 'stderr': 0.0816827737002081},\n   'first_pass_free_energy': {'point': -4.222161558156282,\n    'stderr': 0.006251239324560247}}],\n 'free_energy': {'point': -11.86540296121326, 'stderr': 0.0816827737002081}}"
     },
     "metadata": {},
     "execution_count": 176
    }
   ],
   "source": [
    "data['series']['compounds'][0]"
   ]
  },
  {
   "cell_type": "code",
   "execution_count": 178,
   "metadata": {},
   "outputs": [],
   "source": [
    "microstate_dict = {}\n",
    "\n",
    "for d in data['series']['compounds']:\n",
    "        for m in d['microstates']:\n",
    "\n",
    "            microstate_dict[m['microstate']['microstate_id']] = m['microstate']['smiles']\n",
    "  \n",
    "            # if m['microstate']['microstate_id'] == microstate:\n",
    "            #     smiles = m['microstate']['smiles']\n",
    "            # else:\n",
    "            #     smiles = None"
   ]
  },
  {
   "cell_type": "code",
   "execution_count": 188,
   "metadata": {},
   "outputs": [
    {
     "output_type": "execute_result",
     "data": {
      "text/plain": "{'run_id': 4,\n 'xchem_fragment_id': 'x3110',\n 'initial_microstate': {'compound_id': 'EN300-26619500',\n  'microstate_id': 'EN300-26619500_2'},\n 'final_microstate': {'compound_id': '3v3m-2020-04-Jacobs',\n  'microstate_id': '3v3m-2020-04-Jacobs'}}"
     },
     "metadata": {},
     "execution_count": 188
    }
   ],
   "source": [
    "data['series']['transformations'][0]['transformation']"
   ]
  },
  {
   "cell_type": "code",
   "execution_count": 189,
   "metadata": {
    "tags": []
   },
   "outputs": [],
   "source": [
    "s4_fe_store = {} \n",
    "\n",
    "for t in data['series']['transformations']:\n",
    "\n",
    "\n",
    "\n",
    "    #print(v['microstates'])\n",
    "\n",
    "    # if t['binding_free_energy']['point']< 0:\n",
    "\n",
    "    # print(f\"start compound: {t['transformation']['initial_microstate']['compound_id']}, start compound MS: {t['transformation']['initial_microstate']['microstate_id']}, final compound: {t['transformation']['final_microstate']['compound_id']}\")\n",
    "    # print(f\"binding free energy: {t['binding_free_energy']['point']}\")\n",
    "    # print(' ')\n",
    "\n",
    "    microstate = t['transformation']['initial_microstate']['microstate_id']\n",
    "    start_compound = t['transformation']['initial_microstate']['compound_id']\n",
    "    run = t['transformation']['run_id']\n",
    "\n",
    "    # this doesn't work\n",
    "    for d in microstate_dict:\n",
    "        if d == microstate:\n",
    "                smiles = microstate_dict[d]\n",
    "        else:\n",
    "            smiles = None\n",
    "\n",
    "    end_compound = t['transformation']['final_microstate']['compound_id']\n",
    "    DDG = t['binding_free_energy']['point']\n",
    "    dDDG = t['binding_free_energy']['stderr']\n",
    "\n",
    "\n",
    "    s4_fe_store[microstate] = {\n",
    "        \"RUN\": run,\n",
    "        \"start_compound\": start_compound,\n",
    "        \"SMILES\": smiles,\n",
    "        \"end_compound\": end_compound,\n",
    "        \"DDG\": DDG,\n",
    "        \"dDDG\": dDDG\n",
    "    }\n",
    "\n",
    "    # s4_fe_store[\"start_compound\"].append(t['transformation']['initial_microstate']['compound_id'])\n",
    "    # s4_fe_store[\"start_compound_ms\"].append(t['transformation']['initial_microstate']['microstate_id'])\n",
    "    # s4_fe_store[\"end_compound\"].append(t['transformation']['final_microstate']['compound_id'])\n",
    "    # s4_fe_store[\"DDG\"].append(t['binding_free_energy']['point'])\n",
    "    # s4_fe_store[\"dDDG\"].append(t['binding_free_energy']['point'])\n",
    "\n",
    "    # if not t['transformation']['final_microstate']['compound_id'] == \"3v3m-2020-04-Jacobs\":\n",
    "    #     print(\"blah\")\n",
    "    "
   ]
  },
  {
   "cell_type": "code",
   "execution_count": 190,
   "metadata": {},
   "outputs": [
    {
     "output_type": "execute_result",
     "data": {
      "text/plain": "{'RUN': 4,\n 'start_compound': 'EN300-26619500',\n 'SMILES': None,\n 'end_compound': '3v3m-2020-04-Jacobs',\n 'DDG': 1.0548020968189082,\n 'dDDG': 0.6574041713791445}"
     },
     "metadata": {},
     "execution_count": 190
    }
   ],
   "source": [
    "# each key is a microstate, this way each key is unique\n",
    "s4_fe_store['EN300-26619500_2']"
   ]
  },
  {
   "cell_type": "code",
   "execution_count": 191,
   "metadata": {},
   "outputs": [],
   "source": [
    "s4_fe_store_sorted = {k: v for k, v in sorted(s4_fe_store.items(), key=lambda x: x[1]['DDG'])}"
   ]
  },
  {
   "cell_type": "code",
   "execution_count": 192,
   "metadata": {},
   "outputs": [],
   "source": [
    "import pandas as pd\n",
    "df = pd.DataFrame.from_dict(s4_fe_store_sorted, 'index')"
   ]
  },
  {
   "cell_type": "code",
   "execution_count": 193,
   "metadata": {},
   "outputs": [],
   "source": [
    "df.reset_index(inplace=True)\n"
   ]
  },
  {
   "cell_type": "code",
   "execution_count": 196,
   "metadata": {},
   "outputs": [],
   "source": [
    "df.columns = \"microstate\", \"RUN\", \"start_compound\", \"SMILES\", \"end_compound\", \"DDG\", \"dDDG\""
   ]
  },
  {
   "cell_type": "code",
   "execution_count": 197,
   "metadata": {},
   "outputs": [],
   "source": [
    "df.to_csv('ugi_ddg_sorted.csv')"
   ]
  },
  {
   "cell_type": "code",
   "execution_count": 198,
   "metadata": {},
   "outputs": [
    {
     "output_type": "execute_result",
     "data": {
      "text/plain": "           microstate   RUN start_compound SMILES         end_compound  \\\n0       EN300-62447_4  3295    EN300-62447   None  3v3m-2020-04-Jacobs   \n1       EN300-79027_2  1203    EN300-79027   None  3v3m-2020-04-Jacobs   \n2     EN300-622275_14   553   EN300-622275   None  3v3m-2020-04-Jacobs   \n3       EN300-67492_2  2179    EN300-67492   None  3v3m-2020-04-Jacobs   \n4      EN300-313986_2  2894   EN300-313986   None  3v3m-2020-04-Jacobs   \n...               ...   ...            ...    ...                  ...   \n4508   EN300-371855_1  1024   EN300-371855   None  3v3m-2020-04-Jacobs   \n4509   EN300-344116_1   930   EN300-344116   None  3v3m-2020-04-Jacobs   \n4510   EN300-113892_1  3903   EN300-113892   None  3v3m-2020-04-Jacobs   \n4511    EN300-62447_8  3291    EN300-62447   None  3v3m-2020-04-Jacobs   \n4512    EN300-62447_7  3286    EN300-62447   None  3v3m-2020-04-Jacobs   \n\n            DDG      dDDG  \n0    -11.695215  0.449214  \n1     -7.995218  0.264374  \n2     -6.298211  0.830469  \n3     -5.824463  0.476009  \n4     -5.506994  0.335048  \n...         ...       ...  \n4508  17.451148  0.286446  \n4509  18.740612  0.309765  \n4510  23.385074  0.304551  \n4511  36.026740  0.364737  \n4512  40.419353  0.406270  \n\n[4513 rows x 7 columns]",
      "text/html": "<div>\n<style scoped>\n    .dataframe tbody tr th:only-of-type {\n        vertical-align: middle;\n    }\n\n    .dataframe tbody tr th {\n        vertical-align: top;\n    }\n\n    .dataframe thead th {\n        text-align: right;\n    }\n</style>\n<table border=\"1\" class=\"dataframe\">\n  <thead>\n    <tr style=\"text-align: right;\">\n      <th></th>\n      <th>microstate</th>\n      <th>RUN</th>\n      <th>start_compound</th>\n      <th>SMILES</th>\n      <th>end_compound</th>\n      <th>DDG</th>\n      <th>dDDG</th>\n    </tr>\n  </thead>\n  <tbody>\n    <tr>\n      <th>0</th>\n      <td>EN300-62447_4</td>\n      <td>3295</td>\n      <td>EN300-62447</td>\n      <td>None</td>\n      <td>3v3m-2020-04-Jacobs</td>\n      <td>-11.695215</td>\n      <td>0.449214</td>\n    </tr>\n    <tr>\n      <th>1</th>\n      <td>EN300-79027_2</td>\n      <td>1203</td>\n      <td>EN300-79027</td>\n      <td>None</td>\n      <td>3v3m-2020-04-Jacobs</td>\n      <td>-7.995218</td>\n      <td>0.264374</td>\n    </tr>\n    <tr>\n      <th>2</th>\n      <td>EN300-622275_14</td>\n      <td>553</td>\n      <td>EN300-622275</td>\n      <td>None</td>\n      <td>3v3m-2020-04-Jacobs</td>\n      <td>-6.298211</td>\n      <td>0.830469</td>\n    </tr>\n    <tr>\n      <th>3</th>\n      <td>EN300-67492_2</td>\n      <td>2179</td>\n      <td>EN300-67492</td>\n      <td>None</td>\n      <td>3v3m-2020-04-Jacobs</td>\n      <td>-5.824463</td>\n      <td>0.476009</td>\n    </tr>\n    <tr>\n      <th>4</th>\n      <td>EN300-313986_2</td>\n      <td>2894</td>\n      <td>EN300-313986</td>\n      <td>None</td>\n      <td>3v3m-2020-04-Jacobs</td>\n      <td>-5.506994</td>\n      <td>0.335048</td>\n    </tr>\n    <tr>\n      <th>...</th>\n      <td>...</td>\n      <td>...</td>\n      <td>...</td>\n      <td>...</td>\n      <td>...</td>\n      <td>...</td>\n      <td>...</td>\n    </tr>\n    <tr>\n      <th>4508</th>\n      <td>EN300-371855_1</td>\n      <td>1024</td>\n      <td>EN300-371855</td>\n      <td>None</td>\n      <td>3v3m-2020-04-Jacobs</td>\n      <td>17.451148</td>\n      <td>0.286446</td>\n    </tr>\n    <tr>\n      <th>4509</th>\n      <td>EN300-344116_1</td>\n      <td>930</td>\n      <td>EN300-344116</td>\n      <td>None</td>\n      <td>3v3m-2020-04-Jacobs</td>\n      <td>18.740612</td>\n      <td>0.309765</td>\n    </tr>\n    <tr>\n      <th>4510</th>\n      <td>EN300-113892_1</td>\n      <td>3903</td>\n      <td>EN300-113892</td>\n      <td>None</td>\n      <td>3v3m-2020-04-Jacobs</td>\n      <td>23.385074</td>\n      <td>0.304551</td>\n    </tr>\n    <tr>\n      <th>4511</th>\n      <td>EN300-62447_8</td>\n      <td>3291</td>\n      <td>EN300-62447</td>\n      <td>None</td>\n      <td>3v3m-2020-04-Jacobs</td>\n      <td>36.026740</td>\n      <td>0.364737</td>\n    </tr>\n    <tr>\n      <th>4512</th>\n      <td>EN300-62447_7</td>\n      <td>3286</td>\n      <td>EN300-62447</td>\n      <td>None</td>\n      <td>3v3m-2020-04-Jacobs</td>\n      <td>40.419353</td>\n      <td>0.406270</td>\n    </tr>\n  </tbody>\n</table>\n<p>4513 rows × 7 columns</p>\n</div>"
     },
     "metadata": {},
     "execution_count": 198
    }
   ],
   "source": [
    "df"
   ]
  },
  {
   "cell_type": "code",
   "execution_count": null,
   "metadata": {},
   "outputs": [],
   "source": []
  }
 ]
}