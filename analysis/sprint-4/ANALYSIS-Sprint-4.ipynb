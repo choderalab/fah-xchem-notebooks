{
 "metadata": {
  "language_info": {
   "codemirror_mode": {
    "name": "ipython",
    "version": 3
   },
   "file_extension": ".py",
   "mimetype": "text/x-python",
   "name": "python",
   "nbconvert_exporter": "python",
   "pygments_lexer": "ipython3",
   "version": "3.7.8-final"
  },
  "orig_nbformat": 2,
  "kernelspec": {
   "name": "Python 3.7.8 64-bit ('perses_dev_FAH': conda)",
   "display_name": "Python 3.7.8 64-bit ('perses_dev_FAH': conda)",
   "metadata": {
    "interpreter": {
     "hash": "2104369120766a42b30a1ba599fbef465e42f25a5a04e0970cccbc8d65f818eb"
    }
   }
  }
 },
 "nbformat": 4,
 "nbformat_minor": 2,
 "cells": [
  {
   "source": [
    "# Sprint 4 Analysis"
   ],
   "cell_type": "markdown",
   "metadata": {}
  },
  {
   "cell_type": "code",
   "execution_count": 1,
   "metadata": {},
   "outputs": [],
   "source": [
    "from arsenic import plotting, stats # useful FE analysis functions\n",
    "import json\n",
    "import matplotlib.pyplot as plt\n",
    "from matplotlib.ticker import MaxNLocator\n",
    "import numpy as np\n",
    "import seaborn as sns\n",
    "from openeye import oechem\n",
    "import numpy as np\n",
    "from fah_xchem.analysis.constants import KT_KCALMOL # to convert from kT to kcal per mol"
   ]
  },
  {
   "cell_type": "code",
   "execution_count": 2,
   "metadata": {},
   "outputs": [],
   "source": [
    "# Read in the analysis.json for Sprint 4\n",
    "# Each transform is the backwards transform (?)\n",
    "with open('../../data/sprint-4/analysis.json', 'r') as file:\n",
    "    data = json.load(file)"
   ]
  },
  {
   "cell_type": "code",
   "execution_count": 4,
   "metadata": {},
   "outputs": [
    {
     "output_type": "execute_result",
     "data": {
      "text/plain": "dict_keys(['metadata', 'compounds', 'transformations'])"
     },
     "metadata": {},
     "execution_count": 4
    }
   ],
   "source": [
    "data['series'].keys()"
   ]
  },
  {
   "cell_type": "code",
   "execution_count": 9,
   "metadata": {},
   "outputs": [
    {
     "output_type": "execute_result",
     "data": {
      "text/plain": "{'run_id': 4,\n 'xchem_fragment_id': 'x3110',\n 'initial_microstate': {'compound_id': 'EN300-26619500',\n  'microstate_id': 'EN300-26619500_2'},\n 'final_microstate': {'compound_id': '3v3m-2020-04-Jacobs',\n  'microstate_id': '3v3m-2020-04-Jacobs'}}"
     },
     "metadata": {},
     "execution_count": 9
    }
   ],
   "source": [
    "data['series']['transformations'][0]['transformation']"
   ]
  },
  {
   "cell_type": "code",
   "execution_count": 31,
   "metadata": {},
   "outputs": [
    {
     "output_type": "execute_result",
     "data": {
      "text/plain": "{'point': 4.227757170041856, 'stderr': 0.5239797059936661}"
     },
     "metadata": {},
     "execution_count": 31
    }
   ],
   "source": [
    "t['binding_free_energy']"
   ]
  },
  {
   "cell_type": "code",
   "execution_count": 34,
   "metadata": {
    "tags": []
   },
   "outputs": [],
   "source": [
    "s4_fe_store = {\"start_compound\": [], \"start_compound_ms\": [], \"end_compound\" : [], \"DDG\" : [], \"dDDG\": []}\n",
    "\n",
    "for t in data['series']['transformations']:\n",
    "\n",
    "    # if t['binding_free_energy']['point']< 0:\n",
    "\n",
    "    # print(f\"start compound: {t['transformation']['initial_microstate']['compound_id']}, start compound MS: {t['transformation']['initial_microstate']['microstate_id']}, final compound: {t['transformation']['final_microstate']['compound_id']}\")\n",
    "    # print(f\"binding free energy: {t['binding_free_energy']['point']}\")\n",
    "    # print(' ')\n",
    "\n",
    "    s4_fe_store[\"start_compound\"].append(t['transformation']['initial_microstate']['compound_id'])\n",
    "    s4_fe_store[\"start_compound_ms\"].append(t['transformation']['initial_microstate']['microstate_id'])\n",
    "    s4_fe_store[\"end_compound\"].append(t['transformation']['final_microstate']['compound_id'])\n",
    "    s4_fe_store[\"DDG\"].append(t['binding_free_energy']['point'])\n",
    "    s4_fe_store[\"dDDG\"].append(t['binding_free_energy']['stderr'])\n",
    "\n",
    "    # if not t['transformation']['final_microstate']['compound_id'] == \"3v3m-2020-04-Jacobs\":\n",
    "    #     print(\"blah\")\n",
    "    "
   ]
  },
  {
   "cell_type": "code",
   "execution_count": null,
   "metadata": {},
   "outputs": [],
   "source": [
    "s4_fe_store"
   ]
  },
  {
   "cell_type": "code",
   "execution_count": null,
   "metadata": {},
   "outputs": [],
   "source": []
  }
 ]
}