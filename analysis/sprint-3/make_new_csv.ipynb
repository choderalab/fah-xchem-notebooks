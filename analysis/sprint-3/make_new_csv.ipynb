{
 "metadata": {
  "language_info": {
   "codemirror_mode": {
    "name": "ipython",
    "version": 3
   },
   "file_extension": ".py",
   "mimetype": "text/x-python",
   "name": "python",
   "nbconvert_exporter": "python",
   "pygments_lexer": "ipython3",
   "version": "3.7.8-final"
  },
  "orig_nbformat": 2,
  "kernelspec": {
   "name": "Python 3.7.8 64-bit ('perses_dev_FAH': conda)",
   "display_name": "Python 3.7.8 64-bit ('perses_dev_FAH': conda)",
   "metadata": {
    "interpreter": {
     "hash": "2104369120766a42b30a1ba599fbef465e42f25a5a04e0970cccbc8d65f818eb"
    }
   }
  }
 },
 "nbformat": 4,
 "nbformat_minor": 2,
 "cells": [
  {
   "cell_type": "code",
   "execution_count": 22,
   "metadata": {},
   "outputs": [],
   "source": [
    "import pandas as pd"
   ]
  },
  {
   "source": [
    "# 10871"
   ],
   "cell_type": "markdown",
   "metadata": {}
  },
  {
   "cell_type": "code",
   "execution_count": 77,
   "metadata": {},
   "outputs": [],
   "source": [
    "df_10871 = pd.read_csv('s3_benzotriazoles_10871ref_forwards_backwards_agreement_1kcalpermol.csv')"
   ]
  },
  {
   "cell_type": "code",
   "execution_count": 78,
   "metadata": {},
   "outputs": [
    {
     "output_type": "execute_result",
     "data": {
      "text/plain": "          Name                                             SMILES   DDG  dDDG\n0   BENZO_26_1  c1ccc2c(c1)nnn2NC(=O)N(Cc3cccc(c3)Cl)c4ccc(cc4... -2.38  0.14\n1  BENZO_350_1     Cc1ccc(cc1)N(Cc2cccc(c2)Cl)C(=O)Cn3c4ccccc4nn3 -2.34  0.14\n2  BENZO_354_1    COc1ccc(cc1)N(Cc2cccc(c2)Cl)C(=O)Cn3c4ccccc4nn3 -1.91  0.14\n3  BENZO_338_1  CN(C)c1ccc(cc1)N(Cc2cccc(c2)Cl)C(=O)Cn3c4ccccc... -1.65  0.14\n4  BENZO_362_1  c1ccc2c(c1)nnn2CC(=O)N(Cc3cccc(c3)Cl)c4ccc(cc4... -1.59  0.16\n5   BENZO_24_1  c1ccc2c(c1)nnn2NC(=O)N(Cc3ccsc3)c4ccc(cc4)N5CC... -1.51  0.12\n6  BENZO_360_1  c1ccc2c(c1)nnn2CC(=O)N(Cc3ccsc3)c4ccc(cc4)N5CC... -1.49  0.12\n7  BENZO_344_1  c1ccc2c(c1)nnn2CC(=O)N(Cc3ccsc3)c4ccc(cc4)N5CC... -1.27  0.12\n8  BENZO_336_1      CN(C)c1ccc(cc1)N(Cc2ccsc2)C(=O)Cn3c4ccccc4nn3 -1.11  0.12",
      "text/html": "<div>\n<style scoped>\n    .dataframe tbody tr th:only-of-type {\n        vertical-align: middle;\n    }\n\n    .dataframe tbody tr th {\n        vertical-align: top;\n    }\n\n    .dataframe thead th {\n        text-align: right;\n    }\n</style>\n<table border=\"1\" class=\"dataframe\">\n  <thead>\n    <tr style=\"text-align: right;\">\n      <th></th>\n      <th>Name</th>\n      <th>SMILES</th>\n      <th>DDG</th>\n      <th>dDDG</th>\n    </tr>\n  </thead>\n  <tbody>\n    <tr>\n      <th>0</th>\n      <td>BENZO_26_1</td>\n      <td>c1ccc2c(c1)nnn2NC(=O)N(Cc3cccc(c3)Cl)c4ccc(cc4...</td>\n      <td>-2.38</td>\n      <td>0.14</td>\n    </tr>\n    <tr>\n      <th>1</th>\n      <td>BENZO_350_1</td>\n      <td>Cc1ccc(cc1)N(Cc2cccc(c2)Cl)C(=O)Cn3c4ccccc4nn3</td>\n      <td>-2.34</td>\n      <td>0.14</td>\n    </tr>\n    <tr>\n      <th>2</th>\n      <td>BENZO_354_1</td>\n      <td>COc1ccc(cc1)N(Cc2cccc(c2)Cl)C(=O)Cn3c4ccccc4nn3</td>\n      <td>-1.91</td>\n      <td>0.14</td>\n    </tr>\n    <tr>\n      <th>3</th>\n      <td>BENZO_338_1</td>\n      <td>CN(C)c1ccc(cc1)N(Cc2cccc(c2)Cl)C(=O)Cn3c4ccccc...</td>\n      <td>-1.65</td>\n      <td>0.14</td>\n    </tr>\n    <tr>\n      <th>4</th>\n      <td>BENZO_362_1</td>\n      <td>c1ccc2c(c1)nnn2CC(=O)N(Cc3cccc(c3)Cl)c4ccc(cc4...</td>\n      <td>-1.59</td>\n      <td>0.16</td>\n    </tr>\n    <tr>\n      <th>5</th>\n      <td>BENZO_24_1</td>\n      <td>c1ccc2c(c1)nnn2NC(=O)N(Cc3ccsc3)c4ccc(cc4)N5CC...</td>\n      <td>-1.51</td>\n      <td>0.12</td>\n    </tr>\n    <tr>\n      <th>6</th>\n      <td>BENZO_360_1</td>\n      <td>c1ccc2c(c1)nnn2CC(=O)N(Cc3ccsc3)c4ccc(cc4)N5CC...</td>\n      <td>-1.49</td>\n      <td>0.12</td>\n    </tr>\n    <tr>\n      <th>7</th>\n      <td>BENZO_344_1</td>\n      <td>c1ccc2c(c1)nnn2CC(=O)N(Cc3ccsc3)c4ccc(cc4)N5CC...</td>\n      <td>-1.27</td>\n      <td>0.12</td>\n    </tr>\n    <tr>\n      <th>8</th>\n      <td>BENZO_336_1</td>\n      <td>CN(C)c1ccc(cc1)N(Cc2ccsc2)C(=O)Cn3c4ccccc4nn3</td>\n      <td>-1.11</td>\n      <td>0.12</td>\n    </tr>\n  </tbody>\n</table>\n</div>"
     },
     "metadata": {},
     "execution_count": 78
    }
   ],
   "source": [
    "df_10871"
   ]
  },
  {
   "cell_type": "code",
   "execution_count": 79,
   "metadata": {},
   "outputs": [],
   "source": [
    "post_era_id_10871 = {\n",
    "    'CHO-MSK-00c5269a-4 *': ['c1ccc2c(c1)nnn2NC(=O)N(Cc3cccc(c3)Cl)c4ccc(cc4)N5CCOCC5', 'BENZO_26_1'],\n",
    "    'CHO-MSK-00c5269a-1': ['Cc1ccc(cc1)N(Cc2cccc(c2)Cl)C(=O)Cn3c4ccccc4nn3', 'BENZO_350_1' ],\n",
    "    'CHO-MSK-00c5269a-2': ['COc1ccc(cc1)N(Cc2cccc(c2)Cl)C(=O)Cn3c4ccccc4nn3', 'BENZO_354_1'],\n",
    "    'ALP-POS-6d04362c-2': ['CN(C)c1ccc(cc1)N(Cc2cccc(c2)Cl)C(=O)Cn3c4ccccc4nn3', 'BENZO_338_1'],\n",
    "    'CHO-MSK-00c5269a-4': ['c1ccc2c(c1)nnn2CC(=O)N(Cc3cccc(c3)Cl)c4ccc(cc4)N5CCOCC5', 'BENZO_362_1'],\n",
    "    'ALP-POS-6d04362c-4 *': ['c1ccc2c(c1)nnn2NC(=O)N(Cc3ccsc3)c4ccc(cc4)N5CCOCC5', 'BENZO_24_1'],\n",
    "    'ALP-POS-6d04362c-4': ['c1ccc2c(c1)nnn2CC(=O)N(Cc3ccsc3)c4ccc(cc4)N5CCOCC5', 'BENZO_360_1' ],\n",
    "    'ALP-POS-6d04362c-3': ['c1ccc2c(c1)nnn2CC(=O)N(Cc3ccsc3)c4ccc(cc4)N5CCCCC5', 'BENZO_344_1'],\n",
    "    'ALP-POS-d2866bdf-1': ['CN(C)c1ccc(cc1)N(Cc2ccsc2)C(=O)Cn3c4ccccc4nn3', 'BENZO_336_1']\n",
    "    }"
   ]
  },
  {
   "cell_type": "code",
   "execution_count": 80,
   "metadata": {},
   "outputs": [
    {
     "output_type": "execute_result",
     "data": {
      "text/plain": "dict_keys([&#39;CHO-MSK-00c5269a-4 *&#39;, &#39;CHO-MSK-00c5269a-1&#39;, &#39;CHO-MSK-00c5269a-2&#39;, &#39;ALP-POS-6d04362c-2&#39;, &#39;CHO-MSK-00c5269a-4&#39;, &#39;ALP-POS-6d04362c-4 *&#39;, &#39;ALP-POS-6d04362c-4&#39;, &#39;ALP-POS-6d04362c-3&#39;, &#39;ALP-POS-d2866bdf-1&#39;])"
     },
     "metadata": {},
     "execution_count": 80
    }
   ],
   "source": [
    "post_era_id_10871.keys()"
   ]
  },
  {
   "cell_type": "code",
   "execution_count": 81,
   "metadata": {},
   "outputs": [],
   "source": [
    "df = df_10871[['SMILES','Name','DDG','dDDG']]\n",
    "df.columns = [\"SMILES\", \"Name\", \"DDG (kcal / mol)\", \"dDDG (kcal / mol)\"]\n",
    "df.insert(1, 'ID', list(post_era_id_10871.keys()))\n",
    "df.insert(5, 'Notes', [\"benzotriazole should be bound to -NH-\", \"N/A\", \"N/A\" , \"N/A\", \"N/A\" , \"benzotriazole should be bound to -NH-\", \"N/A\", \"N/A\",\"N/A\"])"
   ]
  },
  {
   "cell_type": "code",
   "execution_count": 82,
   "metadata": {},
   "outputs": [
    {
     "output_type": "execute_result",
     "data": {
      "text/plain": "                                              SMILES                    ID  \\\n0  c1ccc2c(c1)nnn2NC(=O)N(Cc3cccc(c3)Cl)c4ccc(cc4...  CHO-MSK-00c5269a-4 *   \n1     Cc1ccc(cc1)N(Cc2cccc(c2)Cl)C(=O)Cn3c4ccccc4nn3    CHO-MSK-00c5269a-1   \n2    COc1ccc(cc1)N(Cc2cccc(c2)Cl)C(=O)Cn3c4ccccc4nn3    CHO-MSK-00c5269a-2   \n3  CN(C)c1ccc(cc1)N(Cc2cccc(c2)Cl)C(=O)Cn3c4ccccc...    ALP-POS-6d04362c-2   \n4  c1ccc2c(c1)nnn2CC(=O)N(Cc3cccc(c3)Cl)c4ccc(cc4...    CHO-MSK-00c5269a-4   \n5  c1ccc2c(c1)nnn2NC(=O)N(Cc3ccsc3)c4ccc(cc4)N5CC...  ALP-POS-6d04362c-4 *   \n6  c1ccc2c(c1)nnn2CC(=O)N(Cc3ccsc3)c4ccc(cc4)N5CC...    ALP-POS-6d04362c-4   \n7  c1ccc2c(c1)nnn2CC(=O)N(Cc3ccsc3)c4ccc(cc4)N5CC...    ALP-POS-6d04362c-3   \n8      CN(C)c1ccc(cc1)N(Cc2ccsc2)C(=O)Cn3c4ccccc4nn3    ALP-POS-d2866bdf-1   \n\n          Name  DDG (kcal / mol)  dDDG (kcal / mol)  \\\n0   BENZO_26_1             -2.38               0.14   \n1  BENZO_350_1             -2.34               0.14   \n2  BENZO_354_1             -1.91               0.14   \n3  BENZO_338_1             -1.65               0.14   \n4  BENZO_362_1             -1.59               0.16   \n5   BENZO_24_1             -1.51               0.12   \n6  BENZO_360_1             -1.49               0.12   \n7  BENZO_344_1             -1.27               0.12   \n8  BENZO_336_1             -1.11               0.12   \n\n                                   Notes  \n0  benzotriazole should be bound to -NH-  \n1                                    N/A  \n2                                    N/A  \n3                                    N/A  \n4                                    N/A  \n5  benzotriazole should be bound to -NH-  \n6                                    N/A  \n7                                    N/A  \n8                                    N/A  ",
      "text/html": "<div>\n<style scoped>\n    .dataframe tbody tr th:only-of-type {\n        vertical-align: middle;\n    }\n\n    .dataframe tbody tr th {\n        vertical-align: top;\n    }\n\n    .dataframe thead th {\n        text-align: right;\n    }\n</style>\n<table border=\"1\" class=\"dataframe\">\n  <thead>\n    <tr style=\"text-align: right;\">\n      <th></th>\n      <th>SMILES</th>\n      <th>ID</th>\n      <th>Name</th>\n      <th>DDG (kcal / mol)</th>\n      <th>dDDG (kcal / mol)</th>\n      <th>Notes</th>\n    </tr>\n  </thead>\n  <tbody>\n    <tr>\n      <th>0</th>\n      <td>c1ccc2c(c1)nnn2NC(=O)N(Cc3cccc(c3)Cl)c4ccc(cc4...</td>\n      <td>CHO-MSK-00c5269a-4 *</td>\n      <td>BENZO_26_1</td>\n      <td>-2.38</td>\n      <td>0.14</td>\n      <td>benzotriazole should be bound to -NH-</td>\n    </tr>\n    <tr>\n      <th>1</th>\n      <td>Cc1ccc(cc1)N(Cc2cccc(c2)Cl)C(=O)Cn3c4ccccc4nn3</td>\n      <td>CHO-MSK-00c5269a-1</td>\n      <td>BENZO_350_1</td>\n      <td>-2.34</td>\n      <td>0.14</td>\n      <td>N/A</td>\n    </tr>\n    <tr>\n      <th>2</th>\n      <td>COc1ccc(cc1)N(Cc2cccc(c2)Cl)C(=O)Cn3c4ccccc4nn3</td>\n      <td>CHO-MSK-00c5269a-2</td>\n      <td>BENZO_354_1</td>\n      <td>-1.91</td>\n      <td>0.14</td>\n      <td>N/A</td>\n    </tr>\n    <tr>\n      <th>3</th>\n      <td>CN(C)c1ccc(cc1)N(Cc2cccc(c2)Cl)C(=O)Cn3c4ccccc...</td>\n      <td>ALP-POS-6d04362c-2</td>\n      <td>BENZO_338_1</td>\n      <td>-1.65</td>\n      <td>0.14</td>\n      <td>N/A</td>\n    </tr>\n    <tr>\n      <th>4</th>\n      <td>c1ccc2c(c1)nnn2CC(=O)N(Cc3cccc(c3)Cl)c4ccc(cc4...</td>\n      <td>CHO-MSK-00c5269a-4</td>\n      <td>BENZO_362_1</td>\n      <td>-1.59</td>\n      <td>0.16</td>\n      <td>N/A</td>\n    </tr>\n    <tr>\n      <th>5</th>\n      <td>c1ccc2c(c1)nnn2NC(=O)N(Cc3ccsc3)c4ccc(cc4)N5CC...</td>\n      <td>ALP-POS-6d04362c-4 *</td>\n      <td>BENZO_24_1</td>\n      <td>-1.51</td>\n      <td>0.12</td>\n      <td>benzotriazole should be bound to -NH-</td>\n    </tr>\n    <tr>\n      <th>6</th>\n      <td>c1ccc2c(c1)nnn2CC(=O)N(Cc3ccsc3)c4ccc(cc4)N5CC...</td>\n      <td>ALP-POS-6d04362c-4</td>\n      <td>BENZO_360_1</td>\n      <td>-1.49</td>\n      <td>0.12</td>\n      <td>N/A</td>\n    </tr>\n    <tr>\n      <th>7</th>\n      <td>c1ccc2c(c1)nnn2CC(=O)N(Cc3ccsc3)c4ccc(cc4)N5CC...</td>\n      <td>ALP-POS-6d04362c-3</td>\n      <td>BENZO_344_1</td>\n      <td>-1.27</td>\n      <td>0.12</td>\n      <td>N/A</td>\n    </tr>\n    <tr>\n      <th>8</th>\n      <td>CN(C)c1ccc(cc1)N(Cc2ccsc2)C(=O)Cn3c4ccccc4nn3</td>\n      <td>ALP-POS-d2866bdf-1</td>\n      <td>BENZO_336_1</td>\n      <td>-1.11</td>\n      <td>0.12</td>\n      <td>N/A</td>\n    </tr>\n  </tbody>\n</table>\n</div>"
     },
     "metadata": {},
     "execution_count": 82
    }
   ],
   "source": [
    "df"
   ]
  },
  {
   "cell_type": "code",
   "execution_count": 83,
   "metadata": {},
   "outputs": [],
   "source": [
    "# df.to_csv(\"s3_benzotriazoles_10871ref_forwards_backwards_agreement_1kcalpermol_TABSEP.csv\", sep=\"\\t\")\n",
    "df.to_csv(\"s3_benzotriazoles_10871ref_fwds_bkwds_agreement_1kcalpermol_withID.csv\", sep=\"\\t\")"
   ]
  },
  {
   "source": [
    "# 10876"
   ],
   "cell_type": "markdown",
   "metadata": {}
  },
  {
   "cell_type": "code",
   "execution_count": 84,
   "metadata": {},
   "outputs": [],
   "source": [
    "df_10876 = pd.read_csv('s3_benzotriazoles_10876ref_forwards_backwards_agreement_1kcalpermol.csv')"
   ]
  },
  {
   "cell_type": "code",
   "execution_count": 85,
   "metadata": {},
   "outputs": [
    {
     "output_type": "execute_result",
     "data": {
      "text/plain": "          Name                                             SMILES   DDG  dDDG\n0  BENZO_350_1     Cc1ccc(cc1)N(Cc2cccc(c2)Cl)C(=O)Cn3c4ccccc4nn3 -1.66  0.11\n1  BENZO_354_1    COc1ccc(cc1)N(Cc2cccc(c2)Cl)C(=O)Cn3c4ccccc4nn3 -1.56  0.11\n2  BENZO_338_1  CN(C)c1ccc(cc1)N(Cc2cccc(c2)Cl)C(=O)Cn3c4ccccc... -1.41  0.09\n3  BENZO_362_1  c1ccc2c(c1)nnn2CC(=O)N(Cc3cccc(c3)Cl)c4ccc(cc4... -1.26  0.13\n4  BENZO_346_1  c1ccc2c(c1)nnn2CC(=O)N(Cc3cccc(c3)Cl)c4ccc(cc4... -1.06  0.13",
      "text/html": "<div>\n<style scoped>\n    .dataframe tbody tr th:only-of-type {\n        vertical-align: middle;\n    }\n\n    .dataframe tbody tr th {\n        vertical-align: top;\n    }\n\n    .dataframe thead th {\n        text-align: right;\n    }\n</style>\n<table border=\"1\" class=\"dataframe\">\n  <thead>\n    <tr style=\"text-align: right;\">\n      <th></th>\n      <th>Name</th>\n      <th>SMILES</th>\n      <th>DDG</th>\n      <th>dDDG</th>\n    </tr>\n  </thead>\n  <tbody>\n    <tr>\n      <th>0</th>\n      <td>BENZO_350_1</td>\n      <td>Cc1ccc(cc1)N(Cc2cccc(c2)Cl)C(=O)Cn3c4ccccc4nn3</td>\n      <td>-1.66</td>\n      <td>0.11</td>\n    </tr>\n    <tr>\n      <th>1</th>\n      <td>BENZO_354_1</td>\n      <td>COc1ccc(cc1)N(Cc2cccc(c2)Cl)C(=O)Cn3c4ccccc4nn3</td>\n      <td>-1.56</td>\n      <td>0.11</td>\n    </tr>\n    <tr>\n      <th>2</th>\n      <td>BENZO_338_1</td>\n      <td>CN(C)c1ccc(cc1)N(Cc2cccc(c2)Cl)C(=O)Cn3c4ccccc...</td>\n      <td>-1.41</td>\n      <td>0.09</td>\n    </tr>\n    <tr>\n      <th>3</th>\n      <td>BENZO_362_1</td>\n      <td>c1ccc2c(c1)nnn2CC(=O)N(Cc3cccc(c3)Cl)c4ccc(cc4...</td>\n      <td>-1.26</td>\n      <td>0.13</td>\n    </tr>\n    <tr>\n      <th>4</th>\n      <td>BENZO_346_1</td>\n      <td>c1ccc2c(c1)nnn2CC(=O)N(Cc3cccc(c3)Cl)c4ccc(cc4...</td>\n      <td>-1.06</td>\n      <td>0.13</td>\n    </tr>\n  </tbody>\n</table>\n</div>"
     },
     "metadata": {},
     "execution_count": 85
    }
   ],
   "source": [
    "df_10876"
   ]
  },
  {
   "cell_type": "code",
   "execution_count": 86,
   "metadata": {},
   "outputs": [],
   "source": [
    "post_era_id_10876 = {\n",
    "    'CHO-MSK-00c5269a-1': ['Cc1ccc(cc1)N(Cc2cccc(c2)Cl)C(=O)Cn3c4ccccc4nn3', 'BENZO_350_1'],\n",
    "    'CHO-MSK-00c5269a-2': ['COc1ccc(cc1)N(Cc2cccc(c2)Cl)C(=O)Cn3c4ccccc4nn3', 'BENZO_354_1'],\n",
    "    'ALP-POS-6d04362c-2': ['CN(C)c1ccc(cc1)N(Cc2cccc(c2)Cl)C(=O)Cn3c4ccccc4nn3', 'BENZO_338_1'],\n",
    "    'CHO-MSK-00c5269a-4': ['c1ccc2c(c1)nnn2CC(=O)N(Cc3cccc(c3)Cl)c4ccc(cc4)N5CCOCC5', 'BENZO_362_1'],\n",
    "    'CHO-MSK-00c5269a-5': ['c1ccc2c(c1)nnn2CC(=O)N(Cc3cccc(c3)Cl)c4ccc(cc4)N5CCCCC5', 'BENZO_346_1'],\n",
    "    }"
   ]
  },
  {
   "cell_type": "code",
   "execution_count": null,
   "metadata": {},
   "outputs": [],
   "source": []
  },
  {
   "cell_type": "code",
   "execution_count": null,
   "metadata": {},
   "outputs": [],
   "source": []
  },
  {
   "cell_type": "code",
   "execution_count": 87,
   "metadata": {},
   "outputs": [],
   "source": [
    "df = df_10876[['SMILES','Name','DDG','dDDG']]\n",
    "df.columns = [\"SMILES\", \"Name\", \"DDG (kcal / mol)\", \"dDDG (kcal / mol)\"]\n",
    "df.insert(1, 'ID', list(post_era_id_10876.keys()))"
   ]
  },
  {
   "cell_type": "code",
   "execution_count": 88,
   "metadata": {},
   "outputs": [
    {
     "output_type": "execute_result",
     "data": {
      "text/plain": "                                              SMILES                  ID  \\\n0     Cc1ccc(cc1)N(Cc2cccc(c2)Cl)C(=O)Cn3c4ccccc4nn3  CHO-MSK-00c5269a-1   \n1    COc1ccc(cc1)N(Cc2cccc(c2)Cl)C(=O)Cn3c4ccccc4nn3  CHO-MSK-00c5269a-2   \n2  CN(C)c1ccc(cc1)N(Cc2cccc(c2)Cl)C(=O)Cn3c4ccccc...  ALP-POS-6d04362c-2   \n3  c1ccc2c(c1)nnn2CC(=O)N(Cc3cccc(c3)Cl)c4ccc(cc4...  CHO-MSK-00c5269a-4   \n4  c1ccc2c(c1)nnn2CC(=O)N(Cc3cccc(c3)Cl)c4ccc(cc4...  CHO-MSK-00c5269a-5   \n\n          Name  DDG (kcal / mol)  dDDG (kcal / mol)  \n0  BENZO_350_1             -1.66               0.11  \n1  BENZO_354_1             -1.56               0.11  \n2  BENZO_338_1             -1.41               0.09  \n3  BENZO_362_1             -1.26               0.13  \n4  BENZO_346_1             -1.06               0.13  ",
      "text/html": "<div>\n<style scoped>\n    .dataframe tbody tr th:only-of-type {\n        vertical-align: middle;\n    }\n\n    .dataframe tbody tr th {\n        vertical-align: top;\n    }\n\n    .dataframe thead th {\n        text-align: right;\n    }\n</style>\n<table border=\"1\" class=\"dataframe\">\n  <thead>\n    <tr style=\"text-align: right;\">\n      <th></th>\n      <th>SMILES</th>\n      <th>ID</th>\n      <th>Name</th>\n      <th>DDG (kcal / mol)</th>\n      <th>dDDG (kcal / mol)</th>\n    </tr>\n  </thead>\n  <tbody>\n    <tr>\n      <th>0</th>\n      <td>Cc1ccc(cc1)N(Cc2cccc(c2)Cl)C(=O)Cn3c4ccccc4nn3</td>\n      <td>CHO-MSK-00c5269a-1</td>\n      <td>BENZO_350_1</td>\n      <td>-1.66</td>\n      <td>0.11</td>\n    </tr>\n    <tr>\n      <th>1</th>\n      <td>COc1ccc(cc1)N(Cc2cccc(c2)Cl)C(=O)Cn3c4ccccc4nn3</td>\n      <td>CHO-MSK-00c5269a-2</td>\n      <td>BENZO_354_1</td>\n      <td>-1.56</td>\n      <td>0.11</td>\n    </tr>\n    <tr>\n      <th>2</th>\n      <td>CN(C)c1ccc(cc1)N(Cc2cccc(c2)Cl)C(=O)Cn3c4ccccc...</td>\n      <td>ALP-POS-6d04362c-2</td>\n      <td>BENZO_338_1</td>\n      <td>-1.41</td>\n      <td>0.09</td>\n    </tr>\n    <tr>\n      <th>3</th>\n      <td>c1ccc2c(c1)nnn2CC(=O)N(Cc3cccc(c3)Cl)c4ccc(cc4...</td>\n      <td>CHO-MSK-00c5269a-4</td>\n      <td>BENZO_362_1</td>\n      <td>-1.26</td>\n      <td>0.13</td>\n    </tr>\n    <tr>\n      <th>4</th>\n      <td>c1ccc2c(c1)nnn2CC(=O)N(Cc3cccc(c3)Cl)c4ccc(cc4...</td>\n      <td>CHO-MSK-00c5269a-5</td>\n      <td>BENZO_346_1</td>\n      <td>-1.06</td>\n      <td>0.13</td>\n    </tr>\n  </tbody>\n</table>\n</div>"
     },
     "metadata": {},
     "execution_count": 88
    }
   ],
   "source": [
    "df"
   ]
  },
  {
   "cell_type": "code",
   "execution_count": 89,
   "metadata": {},
   "outputs": [],
   "source": [
    "#df.to_csv(\"s3_benzotriazoles_10876ref_forwards_backwards_agreement_1kcalpermol_TABSEP.csv\", sep=\"\\t\")\n",
    "df.to_csv(\"s3_benzotriazoles_10876ref_fwds_bkwds_agreement_1kcalpermol_withID.csv\", sep=\"\\t\")"
   ]
  },
  {
   "cell_type": "code",
   "execution_count": null,
   "metadata": {},
   "outputs": [],
   "source": []
  }
 ]
}